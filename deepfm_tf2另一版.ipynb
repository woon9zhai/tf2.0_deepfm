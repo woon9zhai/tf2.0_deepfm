{
 "cells": [
  {
   "cell_type": "code",
   "execution_count": 1,
   "metadata": {
    "ExecuteTime": {
     "end_time": "2020-07-18T15:20:01.447310Z",
     "start_time": "2020-07-18T15:20:00.450957Z"
    },
    "scrolled": true
   },
   "outputs": [
    {
     "name": "stderr",
     "output_type": "stream",
     "text": [
      "TensorFlow version 2.0.0 has been patched using tfdeterminism version 0.3.0\n"
     ]
    }
   ],
   "source": [
    "import pandas as pd\n",
    "pd.set_option('display.max_columns',None)\n",
    "import tensorflow as tf\n",
    "import pandas as pd\n",
    "import numpy as np\n",
    "import gc\n",
    "import os \n",
    "import pickle\n",
    "# 用于修正tensorflow不能复原问题\n",
    "from tfdeterminism import patch\n",
    "import random\n",
    "patch()\n",
    "os.environ[\"CUDA_VISIBLE_DEVICES\"] = \"1\""
   ]
  },
  {
   "cell_type": "code",
   "execution_count": 2,
   "metadata": {
    "ExecuteTime": {
     "end_time": "2020-07-18T15:20:03.109021Z",
     "start_time": "2020-07-18T15:20:01.928094Z"
    }
   },
   "outputs": [],
   "source": [
    "gpu = tf.config.experimental.list_physical_devices(device_type='GPU')\n",
    "tf.config.experimental.set_memory_growth(gpu[0], True)\n",
    "def set_all_seeds(rand_seed):\n",
    "    np.random.seed(rand_seed)\n",
    "    random.seed(rand_seed)\n",
    "    os.environ['PYTHONHASHSEED'] = str(rand_seed)\n",
    "    tf.random.set_seed(rand_seed)\n",
    "set_all_seeds(42)"
   ]
  },
  {
   "cell_type": "code",
   "execution_count": 3,
   "metadata": {
    "ExecuteTime": {
     "end_time": "2020-07-18T15:20:06.920655Z",
     "start_time": "2020-07-18T15:20:04.108674Z"
    }
   },
   "outputs": [],
   "source": [
    "TRAIN_FILE = \"train.csv\"\n",
    "TEST_FILE = \"test.csv\"\n",
    "path='/data/wy/competition_learning/推荐算法项目/deepfm/data1/'\n",
    "NUMERIC_COLS = [\n",
    "    \"ps_reg_01\", \"ps_reg_02\", \"ps_reg_03\",\n",
    "    \"ps_car_12\", \"ps_car_13\", \"ps_car_14\", \"ps_car_15\"\n",
    "]\n",
    "\n",
    "IGNORE_COLS = [\n",
    "    \"id\", \"target\",\n",
    "    \"ps_calc_01\", \"ps_calc_02\", \"ps_calc_03\", \"ps_calc_04\",\n",
    "    \"ps_calc_05\", \"ps_calc_06\", \"ps_calc_07\", \"ps_calc_08\",\n",
    "    \"ps_calc_09\", \"ps_calc_10\", \"ps_calc_11\", \"ps_calc_12\",\n",
    "    \"ps_calc_13\", \"ps_calc_14\",\n",
    "    \"ps_calc_15_bin\", \"ps_calc_16_bin\", \"ps_calc_17_bin\",\n",
    "    \"ps_calc_18_bin\", \"ps_calc_19_bin\", \"ps_calc_20_bin\"\n",
    "]\n",
    "\n",
    "dfTrain = pd.read_csv(path+TRAIN_FILE)\n",
    "dfTest = pd.read_csv(path+TEST_FILE)\n",
    "df = pd.concat([dfTrain,dfTest],sort=True)"
   ]
  },
  {
   "cell_type": "code",
   "execution_count": 4,
   "metadata": {
    "ExecuteTime": {
     "end_time": "2020-07-18T15:20:11.022285Z",
     "start_time": "2020-07-18T15:20:10.908381Z"
    }
   },
   "outputs": [],
   "source": [
    "feature_dict = {}\n",
    "total_feature = 0\n",
    "for col in df.columns:\n",
    "    if col in IGNORE_COLS:\n",
    "        continue\n",
    "    elif col in NUMERIC_COLS:\n",
    "        feature_dict[col] = total_feature\n",
    "        total_feature += 1\n",
    "    else:\n",
    "        unique_val = df[col].unique()\n",
    "        feature_dict[col] = dict(zip(unique_val,range(total_feature,len(unique_val) + total_feature)))\n",
    "        total_feature += len(unique_val)\n"
   ]
  },
  {
   "cell_type": "code",
   "execution_count": 5,
   "metadata": {
    "ExecuteTime": {
     "end_time": "2020-07-18T15:20:18.886562Z",
     "start_time": "2020-07-18T15:20:16.867531Z"
    }
   },
   "outputs": [],
   "source": [
    "train_y = dfTrain[['target']].values.tolist()\n",
    "dfTrain.drop(['target','id'],axis=1,inplace=True)\n",
    "train_feature_index = dfTrain.copy()\n",
    "train_feature_value = dfTrain.copy()\n",
    "\n",
    "for col in train_feature_index.columns:\n",
    "    if col in IGNORE_COLS:\n",
    "        train_feature_index.drop(col,axis=1,inplace=True)\n",
    "        train_feature_value.drop(col,axis=1,inplace=True)\n",
    "        continue\n",
    "    elif col in NUMERIC_COLS:\n",
    "        train_feature_index[col] = feature_dict[col]\n",
    "    else:\n",
    "        train_feature_index[col] = train_feature_index[col].map(feature_dict[col])\n",
    "        train_feature_value[col] = 1"
   ]
  },
  {
   "cell_type": "code",
   "execution_count": 6,
   "metadata": {
    "ExecuteTime": {
     "end_time": "2020-07-18T15:20:22.408403Z",
     "start_time": "2020-07-18T15:20:19.768117Z"
    }
   },
   "outputs": [],
   "source": [
    "test_ids = dfTest['id'].values.tolist()\n",
    "dfTest.drop(['id'],axis=1,inplace=True)\n",
    "\n",
    "test_feature_index = dfTest.copy()\n",
    "test_feature_value = dfTest.copy()\n",
    "\n",
    "for col in test_feature_index.columns:\n",
    "    if col in IGNORE_COLS:\n",
    "        test_feature_index.drop(col,axis=1,inplace=True)\n",
    "        test_feature_value.drop(col,axis=1,inplace=True)\n",
    "        continue\n",
    "    elif col in NUMERIC_COLS:\n",
    "        test_feature_index[col] = feature_dict[col]\n",
    "    else:\n",
    "        test_feature_index[col] = test_feature_index[col].map(feature_dict[col])\n",
    "        test_feature_value[col] = 1"
   ]
  },
  {
   "cell_type": "code",
   "execution_count": 128,
   "metadata": {
    "ExecuteTime": {
     "end_time": "2020-07-19T08:42:56.129772Z",
     "start_time": "2020-07-19T08:42:56.121928Z"
    }
   },
   "outputs": [],
   "source": [
    "# 参数\n",
    "emb_size=32\n",
    "fea_size=total_feature\n",
    "field_size=len(train_feature_index.columns)\n",
    "fcn=[32,32]\n",
    "learn_rate=0.001\n",
    "epoch=30"
   ]
  },
  {
   "cell_type": "code",
   "execution_count": 131,
   "metadata": {
    "ExecuteTime": {
     "end_time": "2020-07-19T08:43:47.510499Z",
     "start_time": "2020-07-19T08:43:47.502419Z"
    }
   },
   "outputs": [],
   "source": [
    "class deepfm(tf.keras.Model):\n",
    "    def __init__(self,emb_size,fea_size,field_size):\n",
    "        super(deepfm,self).__init__()\n",
    "        self.emb_fea=tf.keras.layers.Embedding(fea_size,emb_size)\n",
    "        self.emb_bias=tf.keras.layers.Embedding(fea_size,1)\n",
    "        self.fcn1=tf.keras.layers.Dense(64,activation='relu')\n",
    "        self.fcn2=tf.keras.layers.Dense(32,activation='relu')\n",
    "        self.fcn3=tf.keras.layers.Dense(1,activation='sigmoid')\n",
    "        \n",
    "    def call(self,inputs):\n",
    "        fea_ind=inputs[0]\n",
    "        fea_val=inputs[1]\n",
    "        embs_fea_ind=self.emb_fea(fea_ind)\n",
    "        fea_val_tf=tf.reshape(fea_val,[-1,field_size,1])\n",
    "        # 共用embbeding层\n",
    "        # [B,F,K]\n",
    "        embeddings=embs_fea_ind*fea_val_tf\n",
    "        \n",
    "        # fm\n",
    "        # 一次项\n",
    "        fm_first=self.emb_bias(fea_ind)\n",
    "        fea_val_fm=tf.expand_dims(fea_val,axis=2)\n",
    "        fm_first=tf.reduce_sum((fm_first*fea_val_tf),1)\n",
    "        \n",
    "        # 二次项\n",
    "        sum_squ=tf.square(tf.reduce_sum(embeddings,1))\n",
    "        squ_sum=tf.reduce_sum(tf.square(embeddings),1)\n",
    "        fm_second=(sum_squ-squ_sum)*0.5\n",
    "        \n",
    "        #fcn \n",
    "        fcn1=self.fcn1(embeddings)\n",
    "        fcn2=self.fcn2(fcn1)\n",
    "        fcn2=tf.keras.layers.Flatten()(fcn2)\n",
    "        output=tf.concat([fm_first,fm_second,fcn2],axis=1)\n",
    "        output=self.fcn3(output)\n",
    "        return output"
   ]
  },
  {
   "cell_type": "code",
   "execution_count": 132,
   "metadata": {
    "ExecuteTime": {
     "end_time": "2020-07-19T08:44:22.389541Z",
     "start_time": "2020-07-19T08:43:48.213377Z"
    },
    "scrolled": true
   },
   "outputs": [
    {
     "name": "stdout",
     "output_type": "stream",
     "text": [
      "Train on 416648 samples, validate on 178564 samples\n",
      "Epoch 1/10\n",
      "416648/416648 [==============================] - 3s 8us/sample - loss: 0.1728 - val_loss: 0.1533\n",
      "Epoch 2/10\n",
      "416648/416648 [==============================] - 3s 8us/sample - loss: 0.1523 - val_loss: 0.1529\n",
      "Epoch 3/10\n",
      "416648/416648 [==============================] - 4s 8us/sample - loss: 0.1521 - val_loss: 0.1529\n",
      "Epoch 4/10\n",
      "416648/416648 [==============================] - 3s 8us/sample - loss: 0.1519 - val_loss: 0.1546\n",
      "Epoch 5/10\n",
      "416648/416648 [==============================] - 4s 8us/sample - loss: 0.1518 - val_loss: 0.1527\n",
      "Epoch 6/10\n",
      "416648/416648 [==============================] - 4s 8us/sample - loss: 0.1516 - val_loss: 0.1530\n",
      "Epoch 7/10\n",
      "416648/416648 [==============================] - 3s 8us/sample - loss: 0.1514 - val_loss: 0.1529\n",
      "Epoch 8/10\n",
      "416648/416648 [==============================] - 3s 8us/sample - loss: 0.1510 - val_loss: 0.1530\n",
      "Epoch 9/10\n",
      "416648/416648 [==============================] - 3s 8us/sample - loss: 0.1508 - val_loss: 0.1530\n",
      "Epoch 10/10\n",
      "416648/416648 [==============================] - 3s 8us/sample - loss: 0.1504 - val_loss: 0.1531\n"
     ]
    },
    {
     "data": {
      "text/plain": [
       "<tensorflow.python.keras.callbacks.History at 0x7faff0138b70>"
      ]
     },
     "execution_count": 132,
     "metadata": {},
     "output_type": "execute_result"
    }
   ],
   "source": [
    "model=deepfm(emb_size,fea_size,field_size)\n",
    "optimizer = tf.keras.optimizers.Adam(learning_rate=0.001)\n",
    "model.compile(optimizer=optimizer, loss='binary_crossentropy')\n",
    "model.fit(x=(train_feature_index.values,train_feature_value.values),y=np.array(train_y),epochs=10,batch_size=1024,validation_split=0.3)"
   ]
  },
  {
   "cell_type": "code",
   "execution_count": null,
   "metadata": {},
   "outputs": [],
   "source": []
  }
 ],
 "metadata": {
  "kernelspec": {
   "display_name": "tf",
   "language": "python",
   "name": "tf"
  },
  "language_info": {
   "codemirror_mode": {
    "name": "ipython",
    "version": 3
   },
   "file_extension": ".py",
   "mimetype": "text/x-python",
   "name": "python",
   "nbconvert_exporter": "python",
   "pygments_lexer": "ipython3",
   "version": "3.6.8"
  },
  "toc": {
   "base_numbering": 1,
   "nav_menu": {},
   "number_sections": true,
   "sideBar": true,
   "skip_h1_title": false,
   "title_cell": "Table of Contents",
   "title_sidebar": "Contents",
   "toc_cell": false,
   "toc_position": {},
   "toc_section_display": true,
   "toc_window_display": false
  }
 },
 "nbformat": 4,
 "nbformat_minor": 2
}
